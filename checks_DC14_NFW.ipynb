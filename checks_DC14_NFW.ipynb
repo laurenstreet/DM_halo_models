{
 "cells": [
  {
   "cell_type": "markdown",
   "metadata": {},
   "source": [
    "# Checking DC14 implementation\n",
    "\n",
    "Results can be compared with Monthly Notices of the Royal Astronomical Society, Volume 466, Issue 2, April 2017, Pages 1648–1668 :  https://doi.org/10.1093/mnras/stw3101\n",
    "\n",
    "See https://arxiv.org/abs/2204.01871 for more information on definitions, fitting procedure, etc."
   ]
  },
  {
   "cell_type": "markdown",
   "metadata": {},
   "source": [
    "### * Import necessary packages and define constants *"
   ]
  },
  {
   "cell_type": "code",
   "execution_count": null,
   "metadata": {},
   "outputs": [],
   "source": [
    "import numpy as np\n",
    "import pyfiles.data_models.constants as constants\n",
    "import pyfiles.fitting.results as results\n",
    "\n",
    "fit_dict_ex=constants.fitting_dict(fit_routine='DC14_check')"
   ]
  },
  {
   "cell_type": "markdown",
   "metadata": {},
   "source": [
    "### * Define dictionary of fit parameters *"
   ]
  },
  {
   "cell_type": "code",
   "execution_count": null,
   "metadata": {},
   "outputs": [],
   "source": [
    "CDM_params_dict={'DC14':{},'NFW':{}}\n",
    "for key in CDM_params_dict:\n",
    "    res=results.results_DC14_check(key,fit_dict_in=fit_dict_ex)\n",
    "    CDM_params_dict[key]=res.fit()"
   ]
  },
  {
   "cell_type": "markdown",
   "metadata": {},
   "source": [
    "### * Print fraction of galaxies that fall within a given range for $\\Delta{\\mathrm{BIC}}$ *"
   ]
  },
  {
   "cell_type": "code",
   "execution_count": null,
   "metadata": {},
   "outputs": [],
   "source": [
    "BIC={'DC14':{},'NFW':{}}\n",
    "for key in CDM_params_dict:\n",
    "    BIC[key]=np.concatenate((CDM_params_dict[key]['Vbulge_none']['BIC'],CDM_params_dict[key]['Vbulge']['BIC']))\n",
    "print('dBIC = BIC_NFW - BIC_DC14')\n",
    "interv_tab=np.asarray([[-np.inf,-6],[-6,-2],[-2,2],[2,6],[6,np.inf]])\n",
    "for i in range(len(interv_tab)):\n",
    "    sum_0=0\n",
    "    for j in range(len(BIC['NFW'])):\n",
    "        diffin=BIC['NFW'][j]-BIC['DC14'][j]\n",
    "        diffin=np.ma.masked_invalid(diffin)\n",
    "        if interv_tab[i,0]<(diffin)<=interv_tab[i,1]:\n",
    "            sum_0+=1\n",
    "    print(str(interv_tab[i,0])+' < dBIC <= '+str(interv_tab[i,1]))\n",
    "    print(sum_0/len(BIC['NFW']))"
   ]
  },
  {
   "cell_type": "markdown",
   "metadata": {},
   "source": [
    "### * Print median for $\\chi^2_{\\nu}$ *"
   ]
  },
  {
   "cell_type": "code",
   "execution_count": null,
   "metadata": {},
   "outputs": [],
   "source": [
    "for key in CDM_params_dict:\n",
    "    redchi=np.concatenate((CDM_params_dict[key]['Vbulge_none']['Chi_sq'],\n",
    "                            CDM_params_dict[key]['Vbulge']['Chi_sq']))\n",
    "    print(r'Reduced chi-squared - ' + str(key) + ': ' + str(np.nanmedian(redchi)))"
   ]
  },
  {
   "cell_type": "markdown",
   "metadata": {},
   "source": [
    "### * Plot $\\chi^2_{\\nu}$ distributions *"
   ]
  },
  {
   "cell_type": "code",
   "execution_count": null,
   "metadata": {},
   "outputs": [],
   "source": [
    "res=results.plots()\n",
    "res.chi_dist_DC14_checks(CDM_params_dict)"
   ]
  },
  {
   "cell_type": "markdown",
   "metadata": {},
   "source": [
    "### * Plot parameters distributions *"
   ]
  },
  {
   "cell_type": "code",
   "execution_count": null,
   "metadata": {},
   "outputs": [],
   "source": [
    "res=results.plots()\n",
    "res.params_dist_DC14_checks(CDM_params_dict)"
   ]
  },
  {
   "cell_type": "markdown",
   "metadata": {},
   "source": [
    "### * Plot rotation curves of given galaxies *"
   ]
  },
  {
   "cell_type": "code",
   "execution_count": null,
   "metadata": {},
   "outputs": [],
   "source": [
    "name_tab=['NGC5055','NGC3109','DDO161','UGC11557','UGC11455','UGC02259','NGC3917','UGC00891','F583-1']\n",
    "res=results.plots()\n",
    "size_ex=(30,100)\n",
    "res.rotcurves_DC14_check(name_tab,fit_dict_in=fit_dict_ex,size=size_ex)"
   ]
  }
 ],
 "metadata": {
  "interpreter": {
   "hash": "dc613def64050391f0f60a9486d1835009cc9c9ac122ad6ea97f1f046ea77bf0"
  },
  "kernelspec": {
   "display_name": "Python 3.7.3 64-bit ('base': conda)",
   "name": "python3"
  },
  "language_info": {
   "codemirror_mode": {
    "name": "ipython",
    "version": 3
   },
   "file_extension": ".py",
   "mimetype": "text/x-python",
   "name": "python",
   "nbconvert_exporter": "python",
   "pygments_lexer": "ipython3",
   "version": "3.6.9"
  }
 },
 "nbformat": 4,
 "nbformat_minor": 2
}
