{
 "cells": [
  {
   "cell_type": "markdown",
   "metadata": {},
   "source": [
    "# Checking Einasto implementation\n",
    "\n",
    "Results can be compared with Nicolas Loizeau and Glennys R. Farrar 2021 ApJL 920 L10 : https://iopscience.iop.org/article/10.3847/2041-8213/ac1bb7\n",
    "\n",
    "See https://arxiv.org/abs/2204.01871 for more information on definitions, fitting procedure, etc."
   ]
  },
  {
   "cell_type": "markdown",
   "metadata": {},
   "source": [
    "### * Import necessary packages and define constants *"
   ]
  },
  {
   "cell_type": "code",
   "execution_count": null,
   "metadata": {},
   "outputs": [],
   "source": [
    "import numpy as np\n",
    "import pyfiles.data_models.constants as constants\n",
    "import pyfiles.fitting.results as results\n",
    "\n",
    "fit_dict_ex=constants.fitting_dict(fit_routine='Einasto_check')"
   ]
  },
  {
   "cell_type": "markdown",
   "metadata": {},
   "source": [
    "### * Define dictionary of fit parameters *"
   ]
  },
  {
   "cell_type": "code",
   "execution_count": null,
   "metadata": {},
   "outputs": [],
   "source": [
    "CDM_params_dict={'Einasto':{},'NFW':{}}\n",
    "for key in CDM_params_dict:\n",
    "    res=results.results_Einasto_check(key,fit_dict_in=fit_dict_ex)\n",
    "    CDM_params_dict[key]=res.fit()"
   ]
  },
  {
   "cell_type": "markdown",
   "metadata": {},
   "source": [
    "### * Print median and mode of $\\chi^2_{\\nu}$ *"
   ]
  },
  {
   "cell_type": "code",
   "execution_count": null,
   "metadata": {},
   "outputs": [],
   "source": [
    "chisq={'Einasto':{},'NFW':{}}\n",
    "for key in CDM_params_dict:\n",
    "    chisq[key]=np.concatenate((CDM_params_dict[key]['Vbulge_none']['Chi_sq'],CDM_params_dict[key]['Vbulge']['Chi_sq']))\n",
    "    print('Reduced chi-squared (Median) - ' + str(key) + ': ' + str(np.nanmedian(chisq[key])))\n",
    "    print('Reduced chi-squared (Mean) - ' + str(key) + ': ' + str(np.nanmean(chisq[key])))"
   ]
  },
  {
   "cell_type": "markdown",
   "metadata": {},
   "source": [
    "### * Show boxplot of $\\chi^2_{\\nu}$ *"
   ]
  },
  {
   "cell_type": "code",
   "execution_count": null,
   "metadata": {},
   "outputs": [],
   "source": [
    "res=results.plots()\n",
    "res.chi_box_Einasto_checks(CDM_params_dict)"
   ]
  },
  {
   "cell_type": "markdown",
   "metadata": {},
   "source": [
    "### * Plot $\\chi^2_{\\nu}$ distributions *"
   ]
  },
  {
   "cell_type": "code",
   "execution_count": null,
   "metadata": {},
   "outputs": [],
   "source": [
    "res=results.plots()\n",
    "res.chi_dist_Einasto_checks(CDM_params_dict)"
   ]
  },
  {
   "cell_type": "markdown",
   "metadata": {},
   "source": [
    "### * Plot parameter distributions *"
   ]
  },
  {
   "cell_type": "code",
   "execution_count": null,
   "metadata": {},
   "outputs": [],
   "source": [
    "res=results.plots()\n",
    "res.params_dist_Einasto_checks(CDM_params_dict)"
   ]
  },
  {
   "cell_type": "markdown",
   "metadata": {},
   "source": [
    "### * Plot $\\alpha$ vs. $\\rho_c$ and $r_c$ vs. $\\rho_c$ *"
   ]
  },
  {
   "cell_type": "code",
   "execution_count": null,
   "metadata": {},
   "outputs": [],
   "source": [
    "res=results.plots()\n",
    "res.params_scatter_Einasto_checks(CDM_params_dict,fit_dict_in=fit_dict_ex)"
   ]
  },
  {
   "cell_type": "markdown",
   "metadata": {},
   "source": [
    "### * Plot rotation curves of given galaxies *"
   ]
  },
  {
   "cell_type": "code",
   "execution_count": null,
   "metadata": {},
   "outputs": [],
   "source": [
    "name_tab=['UGC08490','KK98-251','UGC06787','NGC3109','DDO161','F571-8','ESO563-G021','NGC5055']\n",
    "res=results.plots()\n",
    "size_ex=(30,80)\n",
    "res.rotcurves_Einasto_check(name_tab,fit_dict_in=fit_dict_ex,size=size_ex)"
   ]
  }
 ],
 "metadata": {
  "interpreter": {
   "hash": "dc613def64050391f0f60a9486d1835009cc9c9ac122ad6ea97f1f046ea77bf0"
  },
  "kernelspec": {
   "display_name": "Python 3.7.3 64-bit ('base': conda)",
   "name": "python3"
  },
  "language_info": {
   "codemirror_mode": {
    "name": "ipython",
    "version": 3
   },
   "file_extension": ".py",
   "mimetype": "text/x-python",
   "name": "python",
   "nbconvert_exporter": "python",
   "pygments_lexer": "ipython3",
   "version": "3.6.9"
  }
 },
 "nbformat": 4,
 "nbformat_minor": 2
}
