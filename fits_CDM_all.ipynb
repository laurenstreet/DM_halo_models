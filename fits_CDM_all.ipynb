{
 "cells": [
  {
   "cell_type": "markdown",
   "metadata": {},
   "source": [
    "# Doing all CDM halo fits\n",
    "\n",
    "See *insert publication info here* for more information on definitions, fitting procedure, etc."
   ]
  },
  {
   "cell_type": "markdown",
   "metadata": {},
   "source": [
    "### * Import necessary packages and define constants *"
   ]
  },
  {
   "cell_type": "code",
   "execution_count": null,
   "metadata": {},
   "outputs": [],
   "source": [
    "import pyfiles.data_models.constants as constants\n",
    "import pyfiles.fitting.results as results"
   ]
  },
  {
   "cell_type": "markdown",
   "metadata": {},
   "source": [
    "### * Define dictionary of fit parameters *"
   ]
  },
  {
   "cell_type": "code",
   "execution_count": null,
   "metadata": {},
   "outputs": [],
   "source": [
    "prior_tab=['uni_priors','c200_priors_check','v200_priors_check','MLd_priors_check','MLb_priors_check']\n",
    "model_tab=['Burkert','DC14','Einasto','NFW']\n",
    "CDM_params_dict={}\n",
    "\n",
    "for i in range(len(prior_tab)):\n",
    "    CDM_params_dict[prior_tab[i]]={}\n",
    "    for j in range(len(model_tab)):\n",
    "        res=results.results_CDM_all(model_tab[j],fit_dict_in=constants.fitting_dict(fit_routine=prior_tab[i]))\n",
    "        CDM_params_dict[prior_tab[i]][model_tab[j]]=res.fit()"
   ]
  },
  {
   "cell_type": "markdown",
   "metadata": {},
   "source": [
    "### * Plot $\\Delta{\\mathrm{BIC}}$ between prior cases *"
   ]
  },
  {
   "cell_type": "code",
   "execution_count": null,
   "metadata": {},
   "outputs": [],
   "source": [
    "res=results.plots()\n",
    "res.BIC_diffs_CDM(CDM_params_dict)"
   ]
  },
  {
   "cell_type": "markdown",
   "metadata": {},
   "source": [
    "## Uniform priors on all parameters"
   ]
  },
  {
   "cell_type": "markdown",
   "metadata": {},
   "source": [
    "### * Plot $ \\Delta \\mathrm{BIC} $ for each of the CDM model pairs *"
   ]
  },
  {
   "cell_type": "code",
   "execution_count": null,
   "metadata": {},
   "outputs": [],
   "source": [
    "res=results.plots()\n",
    "res.BIC_CDM(CDM_params_dict['uni_priors'])"
   ]
  },
  {
   "cell_type": "markdown",
   "metadata": {},
   "source": [
    "### * Plot $\\chi^2_{\\nu}$ vs. $\\chi^2_{\\nu}$ for each CDM model pair *"
   ]
  },
  {
   "cell_type": "code",
   "execution_count": null,
   "metadata": {},
   "outputs": [],
   "source": [
    "res=results.plots()\n",
    "res.chi_CDM(CDM_params_dict['uni_priors'])"
   ]
  },
  {
   "cell_type": "markdown",
   "metadata": {},
   "source": [
    "### * Plot reduced chi-square distributions *"
   ]
  },
  {
   "cell_type": "code",
   "execution_count": null,
   "metadata": {},
   "outputs": [],
   "source": [
    "res=results.plots()\n",
    "res.chi_dist_CDM(CDM_params_dict['uni_priors'])"
   ]
  },
  {
   "cell_type": "markdown",
   "metadata": {},
   "source": [
    "### * Plot parameter distributions *"
   ]
  },
  {
   "cell_type": "code",
   "execution_count": null,
   "metadata": {},
   "outputs": [],
   "source": [
    "res=results.plots()\n",
    "res.params_dist_CDM(CDM_params_dict['uni_priors'])"
   ]
  },
  {
   "cell_type": "markdown",
   "metadata": {},
   "source": [
    "### * Plot rotation curves of given galaxies *"
   ]
  },
  {
   "cell_type": "code",
   "execution_count": null,
   "metadata": {},
   "outputs": [],
   "source": [
    "name_tab=['NGC5055','NGC3109']\n",
    "res=results.plots()\n",
    "res.rotcurves_CDM_all(name_tab,size=(50,20))"
   ]
  },
  {
   "cell_type": "markdown",
   "metadata": {},
   "source": [
    "### * Plot $\\log_{10} \\chi^2_\\nu$ contours in the $c_{200}$-$\\tilde{\\Upsilon}_d$ plane *"
   ]
  },
  {
   "cell_type": "code",
   "execution_count": null,
   "metadata": {},
   "outputs": [],
   "source": [
    "res=results.plots()\n",
    "res.MLd_degen_CDM()"
   ]
  },
  {
   "cell_type": "markdown",
   "metadata": {},
   "source": [
    "### * Compare results to empirical relations *"
   ]
  },
  {
   "cell_type": "code",
   "execution_count": null,
   "metadata": {},
   "outputs": [],
   "source": [
    "res=results.plots()\n",
    "res.relations_CDM(CDM_params_dict['uni_priors'])"
   ]
  }
 ],
 "metadata": {
  "interpreter": {
   "hash": "dc613def64050391f0f60a9486d1835009cc9c9ac122ad6ea97f1f046ea77bf0"
  },
  "kernelspec": {
   "display_name": "Python 3.7.3 64-bit ('base': conda)",
   "name": "python3"
  },
  "language_info": {
   "codemirror_mode": {
    "name": "ipython",
    "version": 3
   },
   "file_extension": ".py",
   "mimetype": "text/x-python",
   "name": "python",
   "nbconvert_exporter": "python",
   "pygments_lexer": "ipython3",
   "version": "3.6.9"
  }
 },
 "nbformat": 4,
 "nbformat_minor": 2
}
