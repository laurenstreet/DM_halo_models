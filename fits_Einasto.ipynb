{
 "cells": [
  {
   "cell_type": "markdown",
   "metadata": {},
   "source": [
    "# Doing all ULDM halo fits\n",
    "\n",
    "See *insert publication info here* for more information on definitions, fitting procedure, etc."
   ]
  },
  {
   "cell_type": "markdown",
   "metadata": {},
   "source": [
    "### * Import necessary packages and define constants *"
   ]
  },
  {
   "cell_type": "code",
   "execution_count": null,
   "metadata": {},
   "outputs": [],
   "source": [
    "import pyfiles.data_models.constants as constants\n",
    "import pyfiles.fitting.results as results\n",
    "import numpy as np"
   ]
  },
  {
   "cell_type": "markdown",
   "metadata": {},
   "source": [
    "## Einasto"
   ]
  },
  {
   "cell_type": "markdown",
   "metadata": {},
   "source": [
    "### * Define dictionary of fit parameters for Einasto model *"
   ]
  },
  {
   "cell_type": "code",
   "execution_count": null,
   "metadata": {},
   "outputs": [],
   "source": [
    "CDM_params_dict={}\n",
    "\n",
    "res=results.results_CDM_all('Einasto',ULDM_fits=True)\n",
    "CDM_params_dict=res.fit()"
   ]
  },
  {
   "cell_type": "markdown",
   "metadata": {},
   "source": [
    "## Particle mass free"
   ]
  },
  {
   "cell_type": "markdown",
   "metadata": {},
   "source": [
    "### * Define dictionary of fit parameters for ULDM models *"
   ]
  },
  {
   "cell_type": "code",
   "execution_count": null,
   "metadata": {},
   "outputs": [],
   "source": [
    "psis_m_params_dict={'Summed':{},'Matched':{}}\n",
    "psim_m_params_dict={'Summed':{},'Matched':{}}\n",
    "\n",
    "fit_dict_ex=constants.fitting_dict(sol_mfree=True)\n",
    "res=results.results_psi_single_all(fit_dict_in=fit_dict_ex)\n",
    "psis_m_params_dict['Summed']=res.fit()\n",
    "\n",
    "fit_dict_ex=constants.fitting_dict(sol_mfree=True)\n",
    "res=results.results_psi_multi_all(fit_dict_in=fit_dict_ex)\n",
    "psim_m_params_dict['Summed']=res.fit()\n",
    "\n",
    "fit_dict_ex=constants.fitting_dict(sol_mfree=True,sol_match=True)\n",
    "res=results.results_psi_single_all(fit_dict_in=fit_dict_ex)\n",
    "psis_m_params_dict['Matched']=res.fit()\n",
    "\n",
    "fit_dict_ex=constants.fitting_dict(sol_mfree=True,sol_match=True)\n",
    "res=results.results_psi_multi_all(fit_dict_in=fit_dict_ex)\n",
    "psim_m_params_dict['Matched']=res.fit()"
   ]
  },
  {
   "cell_type": "markdown",
   "metadata": {},
   "source": [
    "### * Plot $\\Delta \\mathrm{BIC}$ vs. particle mass *"
   ]
  },
  {
   "cell_type": "code",
   "execution_count": null,
   "metadata": {},
   "outputs": [],
   "source": [
    "res=results.plots()\n",
    "res.BIC_psi_mfree(psis_m_params_dict,psim_m_params_dict,CDM_params_dict)"
   ]
  },
  {
   "cell_type": "markdown",
   "metadata": {},
   "source": [
    "### * Plot $\\chi^2_{\\nu}$ vs. $\\chi^2_{\\nu}$ for each Einasto-ULDM model pairs *"
   ]
  },
  {
   "cell_type": "code",
   "execution_count": null,
   "metadata": {},
   "outputs": [],
   "source": [
    "res=results.plots()\n",
    "res.chi_psi_mfree(psis_m_params_dict,psim_m_params_dict,CDM_params_dict)"
   ]
  },
  {
   "cell_type": "markdown",
   "metadata": {},
   "source": [
    "### * Plot $M_{\\mathrm{sol}}/M_{\\mathrm{sol,SH}}$ vs. particle mass *"
   ]
  },
  {
   "cell_type": "code",
   "execution_count": null,
   "metadata": {},
   "outputs": [],
   "source": [
    "res=results.plots()\n",
    "res.Msol_psi_mfree(psis_m_params_dict,psim_m_params_dict)"
   ]
  },
  {
   "cell_type": "markdown",
   "metadata": {},
   "source": [
    "### * Plot statistical distributions *"
   ]
  },
  {
   "cell_type": "code",
   "execution_count": null,
   "metadata": {},
   "outputs": [],
   "source": [
    "res=results.plots()\n",
    "res.chi_dist_psi_mfree(psis_m_params_dict,psim_m_params_dict)"
   ]
  },
  {
   "cell_type": "markdown",
   "metadata": {},
   "source": [
    "### * Plot parameter distributions *"
   ]
  },
  {
   "cell_type": "code",
   "execution_count": null,
   "metadata": {},
   "outputs": [],
   "source": [
    "res=results.plots()\n",
    "res.params_dist_psi_mfree(psis_m_params_dict,psim_m_params_dict)"
   ]
  },
  {
   "cell_type": "markdown",
   "metadata": {},
   "source": [
    "### * Plot rotation curves for given galaxies *"
   ]
  },
  {
   "cell_type": "code",
   "execution_count": null,
   "metadata": {},
   "outputs": [],
   "source": [
    "fit_dict_ex=constants.fitting_dict(sol_mfree=True)\n",
    "name_tab=['NGC5055','NGC3109']\n",
    "res=results.plots()\n",
    "res.rotcurves_psi_all(name_tab,fit_dict_in=fit_dict_ex,size=(30,20))\n",
    "\n",
    "fit_dict_ex=constants.fitting_dict(sol_mfree=True,sol_match=True)\n",
    "name_tab=['NGC5055','NGC3109']\n",
    "res=results.plots()\n",
    "res.rotcurves_psi_all(name_tab,fit_dict_in=fit_dict_ex,size=(30,20))"
   ]
  },
  {
   "cell_type": "markdown",
   "metadata": {},
   "source": [
    "### * Compare results to empiricial relations *"
   ]
  },
  {
   "cell_type": "code",
   "execution_count": null,
   "metadata": {},
   "outputs": [],
   "source": [
    "res=results.plots()\n",
    "res.relations_psi_mfree(psis_m_params_dict,psim_m_params_dict)"
   ]
  },
  {
   "cell_type": "markdown",
   "metadata": {},
   "source": [
    "## Particle mass fixed - scan ($m_1 = 10^{1.5} \\, m_{22}$)"
   ]
  },
  {
   "cell_type": "markdown",
   "metadata": {},
   "source": [
    "### * Define dictionary of fit parameters for ULDM models *"
   ]
  },
  {
   "cell_type": "code",
   "execution_count": null,
   "metadata": {},
   "outputs": [],
   "source": [
    "psis_params_dict={'Summed':{},'Matched':{}}\n",
    "psim_params_dict={'Summed':{},'Matched':{}}\n",
    "\n",
    "fit_dict_ex=constants.fitting_dict()\n",
    "res=results.results_psi_single_all(fit_dict_in=fit_dict_ex)\n",
    "psis_params_dict['Summed']=res.fit()\n",
    "\n",
    "fit_dict_ex=constants.fitting_dict()\n",
    "res=results.results_psi_multi_all(fit_dict_in=fit_dict_ex)\n",
    "psim_params_dict['Summed']=res.fit()\n",
    "\n",
    "fit_dict_ex=constants.fitting_dict(sol_match=True)\n",
    "res=results.results_psi_single_all(fit_dict_in=fit_dict_ex)\n",
    "psis_params_dict['Matched']=res.fit()\n",
    "\n",
    "fit_dict_ex=constants.fitting_dict(sol_match=True)\n",
    "res=results.results_psi_multi_all(fit_dict_in=fit_dict_ex)\n",
    "psim_params_dict['Matched']=res.fit()"
   ]
  },
  {
   "cell_type": "markdown",
   "metadata": {},
   "source": [
    "### * Plot $\\sum \\chi^2_{\\nu}$ vs. particle mass *"
   ]
  },
  {
   "cell_type": "code",
   "execution_count": null,
   "metadata": {},
   "outputs": [],
   "source": [
    "res=results.plots()\n",
    "res.chi_psi_mfix(psis_params_dict,psim_params_dict,CDM_params_dict)"
   ]
  },
  {
   "cell_type": "markdown",
   "metadata": {},
   "source": [
    "### * Plot cumulative $\\sum \\chi^2_{\\nu}$ vs. galaxy *"
   ]
  },
  {
   "cell_type": "code",
   "execution_count": null,
   "metadata": {},
   "outputs": [],
   "source": [
    "res=results.plots()\n",
    "res.chi_gal_psi_mfix(psis_params_dict,CDM_params_dict)"
   ]
  },
  {
   "cell_type": "markdown",
   "metadata": {},
   "source": [
    "### * Plot $M_{\\mathrm{sol}}/M_{\\mathrm{sol,SH}}$ vs. particle mass *"
   ]
  },
  {
   "cell_type": "code",
   "execution_count": null,
   "metadata": {},
   "outputs": [],
   "source": [
    "res=results.plots()\n",
    "res.Msol_psi_mfix(psis_params_dict,psim_params_dict)"
   ]
  },
  {
   "cell_type": "markdown",
   "metadata": {},
   "source": [
    "## Particle mass fixed - best fit masses"
   ]
  },
  {
   "cell_type": "markdown",
   "metadata": {},
   "source": [
    "### * Define dictionary of fit parameters for ULDM models *"
   ]
  },
  {
   "cell_type": "code",
   "execution_count": null,
   "metadata": {},
   "outputs": [],
   "source": [
    "psis_params_dict_ex={'Summed':{},'Matched':{}}\n",
    "psim_params_dict_ex={'Summed':{},'Matched':{}}\n",
    "\n",
    "m22_ex=10**(1.5)\n",
    "m22_2_ex=10**(1.8)\n",
    "\n",
    "fit_dict_ex=constants.fitting_dict(sol_m22_tab_prime=np.asarray([m22_ex]))\n",
    "res=results.results_psi_single_all(fit_dict_in=fit_dict_ex)\n",
    "psis_params_dict_ex['Summed']=res.fit()\n",
    "\n",
    "fit_dict_ex=constants.fitting_dict(sol_m22_2_tab_prime=np.asarray([m22_2_ex]))\n",
    "res=results.results_psi_multi_all(fit_dict_in=fit_dict_ex)\n",
    "psim_params_dict_ex['Summed']=res.fit()\n",
    "\n",
    "fit_dict_ex=constants.fitting_dict(sol_match=True,sol_m22_tab=np.asarray([m22_ex]))\n",
    "res=results.results_psi_single_all(fit_dict_in=fit_dict_ex)\n",
    "psis_params_dict_ex['Matched']=res.fit()\n",
    "\n",
    "fit_dict_ex=constants.fitting_dict(sol_match=True,sol_m22_2_tab=np.asarray([m22_2_ex]))\n",
    "res=results.results_psi_multi_all(fit_dict_in=fit_dict_ex)\n",
    "psim_params_dict_ex['Matched']=res.fit()"
   ]
  },
  {
   "cell_type": "markdown",
   "metadata": {},
   "source": [
    "### * Plot $\\Delta \\mathrm{BIC}$ vs. particle mass *"
   ]
  },
  {
   "cell_type": "code",
   "execution_count": null,
   "metadata": {},
   "outputs": [],
   "source": [
    "res=results.plots()\n",
    "res.BIC_psi_mfix_ex(psis_params_dict_ex,psim_params_dict_ex,CDM_params_dict)"
   ]
  },
  {
   "cell_type": "markdown",
   "metadata": {},
   "source": [
    "### * Plot $\\chi^2_{\\nu}$ vs. $\\chi^2_{\\nu}$ for each Einasto-ULDM model pairs *"
   ]
  },
  {
   "cell_type": "code",
   "execution_count": null,
   "metadata": {},
   "outputs": [],
   "source": [
    "res=results.plots()\n",
    "res.chi_psi_mfix_ex(psis_params_dict_ex,psim_params_dict_ex,CDM_params_dict)"
   ]
  },
  {
   "cell_type": "markdown",
   "metadata": {},
   "source": [
    "### * Plot $M_{\\mathrm{sol}}/M_{\\mathrm{sol,SH}}$ vs. particle mass *"
   ]
  },
  {
   "cell_type": "code",
   "execution_count": null,
   "metadata": {},
   "outputs": [],
   "source": [
    "res=results.plots()\n",
    "res.Msol_psi_mfix_ex(psis_params_dict_ex,psim_params_dict_ex)"
   ]
  },
  {
   "cell_type": "markdown",
   "metadata": {},
   "source": [
    "### * Plot statistical distributions *"
   ]
  },
  {
   "cell_type": "code",
   "execution_count": null,
   "metadata": {},
   "outputs": [],
   "source": [
    "res=results.plots()\n",
    "res.chi_dist_psi_mfix_ex(psis_params_dict_ex,psim_params_dict_ex)"
   ]
  },
  {
   "cell_type": "markdown",
   "metadata": {},
   "source": [
    "### * Plot parameter distributions *"
   ]
  },
  {
   "cell_type": "code",
   "execution_count": null,
   "metadata": {},
   "outputs": [],
   "source": [
    "res=results.plots()\n",
    "res.params_dist_psi_mfix_ex(psis_params_dict_ex,psim_params_dict_ex)"
   ]
  },
  {
   "cell_type": "markdown",
   "metadata": {},
   "source": [
    "### * Plot rotation curves for given galaxies *"
   ]
  },
  {
   "cell_type": "code",
   "execution_count": null,
   "metadata": {},
   "outputs": [],
   "source": [
    "fit_dict_ex=constants.fitting_dict(sol_m22=m22_ex,sol_m22_2=m22_2_ex)\n",
    "name_tab=['NGC5055','NGC3109']\n",
    "res=results.plots()\n",
    "res.rotcurves_psi_all(name_tab,fit_dict_in=fit_dict_ex,size=(30,20))\n",
    "\n",
    "fit_dict_ex=constants.fitting_dict(sol_match=True,sol_m22=m22_ex,sol_m22_2=m22_2_ex)\n",
    "name_tab=['NGC5055','NGC3109']\n",
    "res=results.plots()\n",
    "res.rotcurves_psi_all(name_tab,fit_dict_in=fit_dict_ex,size=(30,20))"
   ]
  },
  {
   "cell_type": "markdown",
   "metadata": {},
   "source": [
    "### * Compare results to empirical relations *"
   ]
  },
  {
   "cell_type": "code",
   "execution_count": null,
   "metadata": {},
   "outputs": [],
   "source": [
    "res=results.plots()\n",
    "res.relations_psi_mfix_ex(psis_params_dict_ex,psim_params_dict_ex)"
   ]
  }
 ],
 "metadata": {
  "interpreter": {
   "hash": "dc613def64050391f0f60a9486d1835009cc9c9ac122ad6ea97f1f046ea77bf0"
  },
  "kernelspec": {
   "display_name": "Python 3.7.3 64-bit ('base': conda)",
   "name": "python3"
  },
  "language_info": {
   "codemirror_mode": {
    "name": "ipython",
    "version": 3
   },
   "file_extension": ".py",
   "mimetype": "text/x-python",
   "name": "python",
   "nbconvert_exporter": "python",
   "pygments_lexer": "ipython3",
   "version": "3.6.9"
  }
 },
 "nbformat": 4,
 "nbformat_minor": 2
}
