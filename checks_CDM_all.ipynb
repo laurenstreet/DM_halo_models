{
 "cells": [
  {
   "cell_type": "markdown",
   "metadata": {},
   "source": [
    "# Checking all CDM implementation\n",
    "\n",
    "Results can be compared with Pengfei Li et al 2020 ApJS 247 31 : https://iopscience.iop.org/article/10.3847/1538-4365/ab700e\n",
    "\n",
    "See https://arxiv.org/abs/2204.01871 for more information on definitions, fitting procedure, etc."
   ]
  },
  {
   "cell_type": "markdown",
   "metadata": {},
   "source": [
    "### * Import necessary packages and define constants *"
   ]
  },
  {
   "cell_type": "code",
   "execution_count": null,
   "metadata": {},
   "outputs": [],
   "source": [
    "import pyfiles.data_models.constants as constants\n",
    "import pyfiles.fitting.results as results\n",
    "\n",
    "fit_dict_ex=constants.fitting_dict(fit_routine='CDM_check')"
   ]
  },
  {
   "cell_type": "markdown",
   "metadata": {},
   "source": [
    "### * Define dictionary of fit parameters *"
   ]
  },
  {
   "cell_type": "code",
   "execution_count": null,
   "metadata": {},
   "outputs": [],
   "source": [
    "CDM_params_dict={'Burkert':{},'DC14':{},'Einasto':{},'NFW':{}}\n",
    "for key in CDM_params_dict:\n",
    "    res=results.results_CDM_check(key,fit_dict_in=fit_dict_ex)\n",
    "    CDM_params_dict[key]=res.fit()"
   ]
  },
  {
   "cell_type": "markdown",
   "metadata": {},
   "source": [
    "### * Plot reduced chi-squared distributions *"
   ]
  },
  {
   "cell_type": "code",
   "execution_count": null,
   "metadata": {},
   "outputs": [],
   "source": [
    "res=results.plots()\n",
    "res.chi_dist_CDM_checks(CDM_params_dict)"
   ]
  },
  {
   "cell_type": "markdown",
   "metadata": {},
   "source": [
    "### * Plot parameter distributions *"
   ]
  },
  {
   "cell_type": "code",
   "execution_count": null,
   "metadata": {},
   "outputs": [],
   "source": [
    "res=results.plots()\n",
    "res.params_dist_CDM_checks(CDM_params_dict)"
   ]
  },
  {
   "cell_type": "markdown",
   "metadata": {},
   "source": [
    "### * Plot rotation curves of given galaxies *"
   ]
  },
  {
   "cell_type": "code",
   "execution_count": null,
   "metadata": {},
   "outputs": [],
   "source": [
    "name_tab=['UGC08490','KK98-251','UGC06787','NGC3109','DDO161','F571-8','ESO563-G021','NGC5055','IC2574']\n",
    "res=results.plots()\n",
    "size_ex=(50,90)\n",
    "res.rotcurves_CDM_check(name_tab,fit_dict_in=fit_dict_ex,size=size_ex)"
   ]
  }
 ],
 "metadata": {
  "interpreter": {
   "hash": "dc613def64050391f0f60a9486d1835009cc9c9ac122ad6ea97f1f046ea77bf0"
  },
  "kernelspec": {
   "display_name": "Python 3.7.3 64-bit ('base': conda)",
   "name": "python3"
  },
  "language_info": {
   "codemirror_mode": {
    "name": "ipython",
    "version": 3
   },
   "file_extension": ".py",
   "mimetype": "text/x-python",
   "name": "python",
   "nbconvert_exporter": "python",
   "pygments_lexer": "ipython3",
   "version": "3.6.9"
  }
 },
 "nbformat": 4,
 "nbformat_minor": 2
}
